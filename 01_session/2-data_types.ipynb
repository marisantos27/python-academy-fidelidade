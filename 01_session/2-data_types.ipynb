{
 "cells": [
  {
   "cell_type": "markdown",
   "metadata": {
    "slideshow": {
     "slide_type": "slide"
    },
    "tags": []
   },
   "source": [
    "# Data Types\n",
    "\n",
    "Welcome to the \"Data Types\" unit in the Python Academy! In this notebook, you will learn:\n",
    "  - Data Types\n",
    "  - Object Type Inspection"
   ]
  },
  {
   "cell_type": "markdown",
   "metadata": {
    "slideshow": {
     "slide_type": "notes"
    },
    "tags": []
   },
   "source": [
    "We will provide a simplified introduction to Data Types, their concepts and where they are best applicable. To avoid a wall of text, the specific methods for manipulating each data type are not covered but we advise to investigate them as an additional exercise. This will also improve your googling skills and understand what are the best places to search for Python details.\n"
   ]
  },
  {
   "cell_type": "markdown",
   "metadata": {
    "slideshow": {
     "slide_type": "slide"
    },
    "tags": []
   },
   "source": [
    "## Data Types\n",
    "\n",
    "The data type is a **characteristic** that tells Python **how we aim to use the data**. "
   ]
  },
  {
   "cell_type": "markdown",
   "metadata": {
    "slideshow": {
     "slide_type": "fragment"
    },
    "tags": []
   },
   "source": [
    "<div class=\"alert alert-success\">\n",
    "    <strong> Choosing the correct data type is crucial to ensure our program works as intended</strong>. Multiple operations accept anything and then act differently according to their types.    \n",
    "</div>"
   ]
  },
  {
   "cell_type": "markdown",
   "metadata": {
    "slideshow": {
     "slide_type": "notes"
    },
    "tags": []
   },
   "source": [
    "There are a multitude of [built-in types](https://docs.python.org/3/library/stdtypes.html#dict), but we'll focus on the most relevant ones. For simplification, we split types into two unofficial main groups: individual types and group types. Individual data types are used for data values as a standalone, group data types are used whenever we want to group data in a single container. You'll understand this better in a minute! "
   ]
  },
  {
   "cell_type": "markdown",
   "metadata": {
    "slideshow": {
     "slide_type": "fragment"
    },
    "tags": []
   },
   "source": [
    "<img src=media/data-types.png width=700 \n",
    "     />"
   ]
  },
  {
   "cell_type": "markdown",
   "metadata": {
    "slideshow": {
     "slide_type": "slide"
    },
    "tags": []
   },
   "source": [
    "### Numeric Types\n",
    "There are 2 main numeric types: *integers* and *floating point numbers*."
   ]
  },
  {
   "cell_type": "markdown",
   "metadata": {
    "slideshow": {
     "slide_type": "fragment"
    },
    "tags": []
   },
   "source": [
    "**Integers** are used for things counted as whole, without fractionals. A human is a good example: you can have 1, 2 or 10 people in a room, but can you really have 5.8 humans? `int` can be positive or negative."
   ]
  },
  {
   "cell_type": "markdown",
   "metadata": {
    "slideshow": {
     "slide_type": "fragment"
    },
    "tags": []
   },
   "source": [
    "**Floating Point Numbers** represent numbers with decimal points allowed. These are useful for all things *breakable* or which you can subdivide into multiple pieces. A `float` is automaticall inferred when you specify a decimal point after the integer. Additionally, you can use scientific notation with `e` or `E` for very small/large numbers."
   ]
  },
  {
   "cell_type": "code",
   "execution_count": null,
   "metadata": {
    "slideshow": {
     "slide_type": "subslide"
    },
    "tags": []
   },
   "outputs": [],
   "source": [
    "# ints\n",
    "2\n",
    "-5\n",
    "\n",
    "# floats\n",
    "2.\n",
    "-2.5\n",
    "2e-4\n"
   ]
  },
  {
   "cell_type": "markdown",
   "metadata": {
    "slideshow": {
     "slide_type": "slide"
    },
    "tags": []
   },
   "source": [
    "### Text-Sequence\n",
    "The `string` type is used for **sequences of character data** and we generally use it to **store text**. Strings can be delimited by single (`'`), double (`\"`) or triple quotes (`\"\"\"`), and all the characters inbetween the matching delimiters are part of that string."
   ]
  },
  {
   "cell_type": "code",
   "execution_count": null,
   "metadata": {
    "slideshow": {
     "slide_type": "fragment"
    },
    "tags": []
   },
   "outputs": [],
   "source": [
    "# strings\n",
    "'this is a string'\n",
    "\"this is a string\""
   ]
  },
  {
   "cell_type": "markdown",
   "metadata": {
    "slideshow": {
     "slide_type": "notes"
    },
    "tags": []
   },
   "source": [
    "If you want to include quotes inside the string, you can use the backslash `\\` escape character which supresses or applies the special interpretation that certain characters have in strings. Also, you can mix between single, double and triple quotes to make sure you don't accidently delimit your string earlier than expected.\n",
    "\n",
    "If you are going to read/write files and interact a lot with filepaths (like `/home/user/mydata.csv`), learning more about **escaping characters** will be pretty useful in the future."
   ]
  },
  {
   "cell_type": "code",
   "execution_count": null,
   "metadata": {
    "slideshow": {
     "slide_type": "skip"
    },
    "tags": []
   },
   "outputs": [],
   "source": [
    "# ERROR - Python will infer two strings and a variable name between them. try uncommenting the string below\n",
    "# \"this is a string with \"double-quotes\" inside!\"\n",
    "\n",
    "# we can create the string if we escape the double-quotes natural interpretation\n",
    "\"this is a string with escaped \\\"double-quotes\\\" inside!\"\n",
    "\n",
    "# mixed quotes\n",
    "'can also use \"double-quotes\" if single-quotes are used to delimit'"
   ]
  },
  {
   "cell_type": "markdown",
   "metadata": {
    "slideshow": {
     "slide_type": "slide"
    },
    "tags": []
   },
   "source": [
    "### Boolean\n",
    "The `bool` data type may have either True or False values. We use it to evaluate something to be \"truthy\" or \"falsy\".\n"
   ]
  },
  {
   "cell_type": "code",
   "execution_count": null,
   "metadata": {
    "slideshow": {
     "slide_type": "fragment"
    },
    "tags": []
   },
   "outputs": [],
   "source": [
    "# bool\n",
    "True\n",
    "False"
   ]
  },
  {
   "cell_type": "markdown",
   "metadata": {
    "slideshow": {
     "slide_type": "slide"
    },
    "tags": []
   },
   "source": [
    "## Sequence Types\n",
    "\n",
    "Python has 3 basic sequence types: lists, tuple and ranges.\n",
    "\n",
    "<div class=\"alert alert-info\">\n",
    "    📚 <strong>Sequences</strong> are containers of items with a defined ordering.\n",
    "</div>"
   ]
  },
  {
   "cell_type": "markdown",
   "metadata": {
    "slideshow": {
     "slide_type": "subslide"
    },
    "tags": []
   },
   "source": [
    "### Lists\n",
    "\n",
    "<img src=media/shoppingcart.jpg title=\"Photo by Bruno Kelzer on Unsplash\" width=400 />\n",
    "\n",
    "The **list** is a mutable sequence, usually used to store collections homogeneous of items. Lists are designed to contain data that is changeable - you can add, remove and move items within a list."
   ]
  },
  {
   "cell_type": "markdown",
   "metadata": {
    "slideshow": {
     "slide_type": "notes"
    },
    "tags": []
   },
   "source": [
    "*A shopping cart works just like a list: you can add, remove and move items within the shopping cart.*"
   ]
  },
  {
   "cell_type": "markdown",
   "metadata": {
    "slideshow": {
     "slide_type": "subslide"
    },
    "tags": []
   },
   "source": [
    "### Tuples\n",
    "\n",
    "<img src=media/globe.jpg title=\"Photo by Lara Jameson on Pexels\" width=400 />\n",
    "\n",
    "The **tuple**  are similar to lists but they are immutable, the items inside it cannot be changed after you've created the tuple. Tuples are useful containers to data that is read-only.\n",
    "\n",
    "Since lists and tuples are very similar, it is important to compare:\n",
    "  - Both are containers for data of any type;\n",
    "  - Both allow indexing and unpacking; \n",
    "  - Both are ordered and maintain that order the whole time;\n",
    "  - BUT lists are mutable while tuples are immutable."
   ]
  },
  {
   "cell_type": "markdown",
   "metadata": {
    "slideshow": {
     "slide_type": "notes"
    },
    "tags": []
   },
   "source": [
    "<div class=\"alert alert-info\">\n",
    "📚 <b>Unpacking</b> is the process of extracting values from a container into variables.\n",
    "</div>"
   ]
  },
  {
   "cell_type": "markdown",
   "metadata": {
    "slideshow": {
     "slide_type": "notes"
    },
    "tags": []
   },
   "source": [
    "*Tuples are suited to store a pair of coordinates (latitude, longitude) of a location. There is an inherent order (lat first, then long) but the values for a specific location shouldn't change. Your house doesn't move, or does it?*"
   ]
  },
  {
   "cell_type": "markdown",
   "metadata": {
    "slideshow": {
     "slide_type": "subslide"
    },
    "tags": []
   },
   "source": [
    "### Range\n",
    "\n",
    "Additionally, the **range** represents an immutable sequence of numbers, commonly used for iterating a specific number of times if `for` loops (for loops will be covered later in the \"Flow\" section.). The syntax is `range(stop)` or `range(start, stop, [, step])`. By default, providing only one argument (1st option) will start in 0 and the stop is ommited! *i.e. range(4) produces 0,1,2,3*. When step is provided, it specifies the increment"
   ]
  },
  {
   "cell_type": "code",
   "execution_count": 5,
   "metadata": {
    "slideshow": {
     "slide_type": "subslide"
    },
    "tags": []
   },
   "outputs": [
    {
     "data": {
      "text/plain": [
       "['abc']"
      ]
     },
     "execution_count": 5,
     "metadata": {},
     "output_type": "execute_result"
    }
   ],
   "source": [
    "# lists\n",
    "[]                      # lists are usually created with square brackets\n",
    "[2, 3, 4]               # list of 3 numbers\n",
    "\n",
    "# sets\n",
    "(2, 3, 4)               # sets are usually created with round brackets\n",
    "\n",
    "# range\n",
    "range(2)                # by default, range starts with 0 and ends in the specified parameter\n",
    "\n",
    "lista=['abc']\n",
    "lista\n"
   ]
  },
  {
   "cell_type": "code",
   "execution_count": 6,
   "metadata": {
    "slideshow": {
     "slide_type": "skip"
    },
    "tags": []
   },
   "outputs": [
    {
     "data": {
      "text/plain": [
       "['a', 'b', 'c']"
      ]
     },
     "execution_count": 6,
     "metadata": {},
     "output_type": "execute_result"
    }
   ],
   "source": [
    "# advanced - list\n",
    "[x for x in range(3)]   # list comprehension\n",
    "list('abc')             # list(iterable) is also allowed."
   ]
  },
  {
   "cell_type": "markdown",
   "metadata": {
    "slideshow": {
     "slide_type": "subslide"
    },
    "tags": []
   },
   "source": [
    "<img src=media/sequence-type.png width=700 />\n"
   ]
  },
  {
   "cell_type": "markdown",
   "metadata": {
    "slideshow": {
     "slide_type": "skip"
    },
    "tags": []
   },
   "source": [
    "## Set Types"
   ]
  },
  {
   "cell_type": "markdown",
   "metadata": {
    "slideshow": {
     "slide_type": "slide"
    },
    "tags": []
   },
   "source": [
    "### Set\n",
    "\n",
    "<img src=media/stamp-collection.jpg title=\"Photo by Bich Tran on Pexels\" width=400/>\n",
    "\n",
    "A `set` is an unordered, unchangeable and unindexed collection of unique items.\n",
    "  - **unique** items guarantee no duplicates are allowed;\n",
    "  - **unordered** means the items do not have a defined order;\n",
    "  - **unchangeable** means you cannot change items, but you can add and remove items;\n",
    "  - **unindexed** means you cannot retrieve or add items by an index order."
   ]
  },
  {
   "cell_type": "markdown",
   "metadata": {
    "slideshow": {
     "slide_type": "notes"
    },
    "tags": []
   },
   "source": [
    "Sets are useful for removing duplicates from a collection (e.g. list) and to perform set operations (e.g. union, intersection).\n",
    "\n",
    "(Advanced) Additionally, Python also supports `frozenset()` which is the same as a set except frozensets are immutable in their elements, which cannot be added or removed once created."
   ]
  },
  {
   "cell_type": "code",
   "execution_count": 7,
   "metadata": {
    "slideshow": {
     "slide_type": "fragment"
    },
    "tags": []
   },
   "outputs": [
    {
     "data": {
      "text/plain": [
       "{2, 3, 4}"
      ]
     },
     "execution_count": 7,
     "metadata": {},
     "output_type": "execute_result"
    }
   ],
   "source": [
    "# set\n",
    "{2, 3, 4}           # using curly braces\n",
    "set([2, 3, 4, 4])   # using set() function with an iterable (e.g. list)"
   ]
  },
  {
   "cell_type": "markdown",
   "metadata": {
    "slideshow": {
     "slide_type": "notes"
    },
    "tags": []
   },
   "source": [
    "*A set is suited to manage a stamp collection: we don't want duplicates, there is no inherent order and we can't change but we can add or remove items.*"
   ]
  },
  {
   "cell_type": "markdown",
   "metadata": {
    "slideshow": {
     "slide_type": "skip"
    },
    "tags": []
   },
   "source": [
    "## Mapping Types"
   ]
  },
  {
   "cell_type": "markdown",
   "metadata": {
    "slideshow": {
     "slide_type": "slide"
    },
    "tags": []
   },
   "source": [
    "### Dictionary\n",
    "\n",
    "<img src=media/dictionary.jpg title=\"Photo by Rob Hobson on Unsplash\" width=400 />\n",
    "\n",
    "The dictionary provides a way to store data in **key:value pairs**. In a real life dictionary, you search something by the name and it provides you a definition. This basically provides a word:definition mapping concept. Python uses dictionaries in a similar concept, but you can choose whichever mapping you'd like to have. \n",
    "\n",
    "Dictionaries are useful to store mappings related to the same concept. They differ from lists because they are indexed by keys, instead of positional indexing."
   ]
  },
  {
   "cell_type": "markdown",
   "metadata": {
    "slideshow": {
     "slide_type": "notes"
    },
    "tags": []
   },
   "source": [
    "<div class=\"alert alert-info\">\n",
    "    💡<strong>(Advanced)</strong> As of Python 3.7, dictionaries are now ordered.\n",
    "</div>"
   ]
  },
  {
   "cell_type": "code",
   "execution_count": null,
   "metadata": {
    "slideshow": {
     "slide_type": "subslide"
    },
    "tags": []
   },
   "outputs": [],
   "source": [
    "# dict\n",
    "{\"Portugal\": \"Lisbon\", \"Spain\": \"Madrid\"}           # capitals. created with curly braces\n",
    "dict(brand=\"Toyota\", model=\"yaris\", doors=5)        # car details. created with dict() and keyword arguments\n",
    "\n",
    "# retrieving data, updating and \n",
    "my_home = {\"bathrooms\": 2, \"rooms\": 5}              # create a new dict\n",
    "my_home[\"bathrooms\"]                                # get the number of bathrooms\n",
    "my_home[\"rooms\"] = 10                               # updating the number of rooms\n",
    "my_home.pop(\"bathrooms\")                            # remove the bathrooms info"
   ]
  },
  {
   "cell_type": "markdown",
   "metadata": {
    "slideshow": {
     "slide_type": "slide"
    },
    "tags": []
   },
   "source": [
    "## Object Type Inspection\n",
    "\n",
    "### `type()`\n",
    "\n",
    "When you are developing code on a large project, it may be difficult to track all the objects' types by hearth. To avoid memorizing, you can inspect the type of any given variable with the `type()` built-in function. This works both for the variables you create and for the native data types you use in Python."
   ]
  },
  {
   "cell_type": "code",
   "execution_count": 8,
   "metadata": {
    "slideshow": {
     "slide_type": "subslide"
    },
    "tags": []
   },
   "outputs": [
    {
     "data": {
      "text/plain": [
       "dict"
      ]
     },
     "execution_count": 8,
     "metadata": {},
     "output_type": "execute_result"
    }
   ],
   "source": [
    "# type()\n",
    "type( 2 )           # int\n",
    "type( 2. )          # float\n",
    "type( \"2\" )         # string\n",
    "type( True )        # bool\n",
    "type( [2, 3] )      # list\n",
    "type( (2, 3) )      # tuple\n",
    "type( range(2) )    # range\n",
    "type( { 2,3 } )     # set\n",
    "type( {2: 3} )      # dict"
   ]
  },
  {
   "cell_type": "markdown",
   "metadata": {
    "slideshow": {
     "slide_type": "slide"
    },
    "tags": []
   },
   "source": [
    "## Recap\n",
    "\n",
    "Congratulations, you made it all the way through Data Types in Python! We know this can be challenging at first, but mastering these fundamental concepts is key to be a good developer! By the end of this notebook, you should have a clear idea of:\n",
    "  1. What are the built-in data types in Python;\n",
    "  2. When to use each data type"
   ]
  },
  {
   "cell_type": "markdown",
   "metadata": {
    "slideshow": {
     "slide_type": "slide"
    },
    "tags": []
   },
   "source": [
    "<img src=media/exercise-datatypes.png width=800 />"
   ]
  }
 ],
 "metadata": {
  "interpreter": {
   "hash": "62450144029c700d9828a520a84c849f57ec997bbb5cd86252d9dcd358a93bcf"
  },
  "kernelspec": {
   "display_name": "Python 3 (ipykernel)",
   "language": "python",
   "name": "python3"
  },
  "language_info": {
   "codemirror_mode": {
    "name": "ipython",
    "version": 3
   },
   "file_extension": ".py",
   "mimetype": "text/x-python",
   "name": "python",
   "nbconvert_exporter": "python",
   "pygments_lexer": "ipython3",
   "version": "3.10.9"
  }
 },
 "nbformat": 4,
 "nbformat_minor": 4
}
