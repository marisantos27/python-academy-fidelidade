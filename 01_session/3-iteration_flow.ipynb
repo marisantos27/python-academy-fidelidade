{
 "cells": [
  {
   "cell_type": "markdown",
   "metadata": {
    "slideshow": {
     "slide_type": "slide"
    },
    "tags": []
   },
   "source": [
    "# Iteration & Flow\n",
    "\n",
    "Welcome to the \"Iteration & Flow\" unit of the Python Academy! In this notebook, you will learn:\n",
    "- Flow Control\n",
    "- Indentation\n",
    "- `if-elif-else` statements\n",
    "-  Loops: `while` and `for`\n",
    "-  `continue` and `break`\n",
    "-  List Comprehension"
   ]
  },
  {
   "cell_type": "markdown",
   "metadata": {
    "slideshow": {
     "slide_type": "slide"
    },
    "tags": []
   },
   "source": [
    "## Flow Control\n",
    "\n",
    "<div class=\"alert alert-info\">\n",
    "📚  The formal definition of <strong>Flow Control</strong> is the order by which individual statements and blocks of code are executed.\n",
    "</div>"
   ]
  },
  {
   "cell_type": "markdown",
   "metadata": {
    "slideshow": {
     "slide_type": "notes"
    },
    "tags": []
   },
   "source": [
    "Building a program is essentially defining actions to perform depending on certain conditions. This can be setting up an alarm to trigger at midnight (time >> alarm), a weather forecast app (metereological conditions >> forecast) or discovering business insights from the latest financial reports (financial values >> analysis). **Flow Control is what allows you to check for conditions, act accordingly and iterate on repeatable code.**"
   ]
  },
  {
   "cell_type": "markdown",
   "metadata": {
    "slideshow": {
     "slide_type": "subslide"
    },
    "tags": []
   },
   "source": [
    "<img src=media/flow-control.png width=800 />"
   ]
  },
  {
   "cell_type": "markdown",
   "metadata": {
    "slideshow": {
     "slide_type": "subslide"
    },
    "tags": []
   },
   "source": [
    "In Python, the main concepts for flow control comprise:\n",
    "   - `if` a condition do something, or something  `else`\n",
    "   - `while` a certain condition is true, continue iterating until it no longer applies\n",
    "   - `for` a specific number of times, repeat the same action\n",
    "   - manually controlling to `continue` to the next iteration of a loop, or else `break` the loop immediately."
   ]
  },
  {
   "cell_type": "markdown",
   "metadata": {
    "slideshow": {
     "slide_type": "slide"
    },
    "tags": []
   },
   "source": [
    "## Python Indentation\n",
    "\n",
    "\n",
    "<img src=media/indentation.jpg title=\"Photo by Artturi Jalli on Unsplash\" alt=\"Indentation\" width=\"200\" />\n",
    "\n",
    "To improve readability and properly define code blocks, Python uses **indentation**: spaces at the beginning of a code line. This will be important as we start to develop more complex code and introduce conditional and loop statements.\n",
    "\n",
    "You can either use the [recommended](https://peps.python.org/pep-0008/#tabs-or-spaces) **4 blank spaces** or using the *tab* character. Python doesn't allow mixing indentation styles."
   ]
  },
  {
   "cell_type": "markdown",
   "metadata": {
    "slideshow": {
     "slide_type": "slide"
    },
    "tags": []
   },
   "source": [
    "## What `if`\n",
    "\n",
    "<img src=media/flowchart.jpg title=\"Photo by Kelly Sikkema on Unsplash\" alt=\"Flowchart\" width=\"300\" />\n",
    " \n",
    "The `if`, `elif` and `else` statements are used to act on certain **conditions**. If-statements are the programatically equivalent of flowcharts, bulding decision trees on how to act according to the veracity of each conditions."
   ]
  },
  {
   "cell_type": "markdown",
   "metadata": {
    "slideshow": {
     "slide_type": "subslide"
    },
    "tags": []
   },
   "source": [
    "<img src=media/if.png width=700 />"
   ]
  },
  {
   "cell_type": "markdown",
   "metadata": {
    "slideshow": {
     "slide_type": "notes"
    },
    "tags": []
   },
   "source": [
    "The conditions used in `if` statements are evaluated for veracity (True, False), determining the next instruction(s) to execute. The `else` is used to execute if the condition is False. If you want more than a single initial condition, the following statements are `elif` (else + if).\n",
    "\n",
    "In each of the `if-elif-else` statements, the code to execute can be composed of any number of instructions."
   ]
  },
  {
   "cell_type": "markdown",
   "metadata": {
    "slideshow": {
     "slide_type": "subslide"
    },
    "tags": []
   },
   "source": [
    "One key detail about `if-elif-else` is that the **conditions are not mutually exclusive**, multiple conditions can be true at the same time. Python will act upon the 1st `True` condition it seees and ignore the rest.\n",
    "\n",
    "\n",
    "```python\n",
    "\n",
    "# if\n",
    "if condition:\n",
    "    code_to_execute1\n",
    "\n",
    "# if-else\n",
    "if condition:\n",
    "    code_to_execute1\n",
    "else:\n",
    "    code_to_execute2\n",
    "\n",
    "# if-elif-else\n",
    "if condition1:\n",
    "    code_to_execute1\n",
    "elif condition2:\n",
    "    code_to_execute2\n",
    "elif condition3:\n",
    "    code_to_execute3\n",
    "else:\n",
    "    code_to_execute4\n",
    "\n",
    "```"
   ]
  },
  {
   "cell_type": "code",
   "execution_count": 6,
   "metadata": {
    "slideshow": {
     "slide_type": "subslide"
    },
    "tags": []
   },
   "outputs": [
    {
     "name": "stdout",
     "output_type": "stream",
     "text": [
      "Bring umbrella!\n"
     ]
    }
   ],
   "source": [
    "# if-elif-else\n",
    "weather = 'rainy'\n",
    "\n",
    "if weather == 'rainy':\n",
    "    print('Bring umbrella!')\n",
    "elif weather == 'sun':\n",
    "    print('Bring sunglasses!')\n",
    "    print('Don\\'t forget your sunscreen.')\n",
    "else:\n",
    "    print('Bring both!')"
   ]
  },
  {
   "cell_type": "code",
   "execution_count": 2,
   "metadata": {
    "slideshow": {
     "slide_type": "subslide"
    },
    "tags": []
   },
   "outputs": [
    {
     "name": "stdout",
     "output_type": "stream",
     "text": [
      "Order does matter!\n"
     ]
    }
   ],
   "source": [
    "# order does matter \n",
    "if False:\n",
    "    print(\"Order doesn't matter.\")\n",
    "elif True:\n",
    "    print(\"Order does matter!\")\n",
    "elif True:\n",
    "    print(\"I'm a walrus!\")\n",
    "else:\n",
    "    print(\"You can’t hum while holding your nose.\")"
   ]
  },
  {
   "cell_type": "markdown",
   "metadata": {
    "slideshow": {
     "slide_type": "slide"
    },
    "tags": []
   },
   "source": [
    "### Nested `if` statements\n",
    "\n",
    "<img src=media/nested-if.png width=700 />"
   ]
  },
  {
   "cell_type": "markdown",
   "metadata": {
    "slideshow": {
     "slide_type": "notes"
    },
    "tags": []
   },
   "source": [
    "The decision tree given by **`if` statements can have more than 1 level of complexity**. If you have multiple factors to consider, instead of building a gigantic single level `if`, you can add layers as you need with indented blocks. This may seem trivial for simpler examples, but as you increase your codebase into more complex projects with tricky decision trees, correctly indenting your code allows for much better readability and debugging skills."
   ]
  },
  {
   "cell_type": "code",
   "execution_count": 9,
   "metadata": {
    "slideshow": {
     "slide_type": "subslide"
    },
    "tags": []
   },
   "outputs": [
    {
     "name": "stdout",
     "output_type": "stream",
     "text": [
      "What should I do?\n"
     ]
    }
   ],
   "source": [
    "weather = 'sun'\n",
    "hour_day = 14\n",
    "print('What should I do?')"
   ]
  },
  {
   "cell_type": "code",
   "execution_count": null,
   "metadata": {
    "slideshow": {
     "slide_type": "fragment"
    },
    "tags": []
   },
   "outputs": [],
   "source": [
    "# avoid this. please, we're begging you\n",
    "if weather == 'sun' and hour_day < 10:\n",
    "    print('Morning run.')\n",
    "elif weather == 'sun' and hour_day > 18:\n",
    "    print('Beer time.')\n",
    "elif weather == 'rainy' and hour_day > 18:\n",
    "    print('Netflix & Chill.')\n",
    "else:\n",
    "    print('Practice my Python skills.')"
   ]
  },
  {
   "cell_type": "code",
   "execution_count": 10,
   "metadata": {
    "slideshow": {
     "slide_type": "subslide"
    },
    "tags": []
   },
   "outputs": [],
   "source": [
    "# use nested ifs instead\n",
    "if weather == 'sun':\n",
    "    if hour_day < 10:\n",
    "        print('Morning run.')\n",
    "    elif hour_day > 18:\n",
    "        print('Beer time.')\n",
    "elif weather == 'rainy':\n",
    "    if hour_day > 18:\n",
    "        print('Netflix & Chill.')\n",
    "else:\n",
    "    print('Practice my Python skills.')\n"
   ]
  },
  {
   "cell_type": "code",
   "execution_count": null,
   "metadata": {},
   "outputs": [],
   "source": [
    "#Pedir ao utilizador idade\n",
    "#Pedir ao utilizador departamento\n",
    "# se idade < 35 e departamento 'ads': \n",
    "#    entao nome = 'Inês'\n",
    "# Se idade > 35 e departamento 'adm':\n",
    "#   entao nome ='outro'"
   ]
  },
  {
   "cell_type": "code",
   "execution_count": 13,
   "metadata": {},
   "outputs": [
    {
     "name": "stdin",
     "output_type": "stream",
     "text": [
      "Qual a sua idade: 33\n",
      "Qual o seu departamento: adm\n"
     ]
    },
    {
     "name": "stdout",
     "output_type": "stream",
     "text": [
      "Outros\n"
     ]
    }
   ],
   "source": [
    "idade=int(input(\"Qual a sua idade:\"))\n",
    "depart=input(\"Qual o seu departamento:\")\n",
    "\n",
    "if idade < 35 and depart =='ads':\n",
    "    nome='Inês'\n",
    "    print(nome)\n",
    "elif idade > 35 and depart =='adm':\n",
    "        nome='Luis'\n",
    "        print(nome)\n",
    "else:\n",
    "    nome='Outros'\n",
    "    print(nome)\n",
    "    "
   ]
  },
  {
   "cell_type": "code",
   "execution_count": null,
   "metadata": {},
   "outputs": [],
   "source": [
    "idade=int(input(\"Qual a sua idade:\"))\n",
    "depart=input(\"Qual o seu departamento:\")\n",
    "\n",
    "if idade < 35:\n",
    "    if depart =='ads':\n",
    "        nome='Inês'\n",
    "        print(nome)"
   ]
  },
  {
   "cell_type": "markdown",
   "metadata": {
    "slideshow": {
     "slide_type": "slide"
    },
    "tags": []
   },
   "source": [
    "## Loops\n",
    "\n",
    "<img src=media/repetition.jpg alt=\"Photo by Jed Adan on Unsplash\" title=\"Repetition\" width=400>"
   ]
  },
  {
   "cell_type": "markdown",
   "metadata": {
    "slideshow": {
     "slide_type": "notes"
    },
    "tags": []
   },
   "source": [
    "**Everybody hates repetitive tasks.** While some may say that \"repetition is the mother of learning\", repeating code when we are programming  is a honeypot for poorly-copied, avoidable bugs that undermine our codebase. Instead of repeating instructions of code by hand, we will learn how to *automagically* define instructions and repeat them until we are good to go!"
   ]
  },
  {
   "cell_type": "markdown",
   "metadata": {
    "slideshow": {
     "slide_type": "fragment"
    },
    "tags": []
   },
   "source": [
    "<div class=\"alert alert-warning\">\n",
    "    ⚠️ If you are writing the same code multiple times, you are probably (most definitely!) doing something wrong!\n",
    "</div>"
   ]
  },
  {
   "cell_type": "markdown",
   "metadata": {
    "slideshow": {
     "slide_type": "subslide"
    },
    "tags": []
   },
   "source": [
    "## `while` we wait\n",
    "\n",
    "<img src=media/while.jpg alt=\"Photo by 愚木混株 cdd20 on Unsplash\" title=\"Repetition\" width=200>"
   ]
  },
  {
   "cell_type": "markdown",
   "metadata": {
    "slideshow": {
     "slide_type": "notes"
    },
    "tags": []
   },
   "source": [
    "The simplest loop we will learn is the `while` statement. You can think of `while` as an a **repeatable `if`**. "
   ]
  },
  {
   "cell_type": "markdown",
   "metadata": {
    "slideshow": {
     "slide_type": "fragment"
    },
    "tags": []
   },
   "source": [
    "We repeat the instructions (loop body) `while` the original condition is met (i.e. is `True`). After the loop body is executed, if the condition is true, Python will execute the loop body again. When the condition is not met, we exit the loop and the loop body will no longer run."
   ]
  },
  {
   "cell_type": "markdown",
   "metadata": {
    "slideshow": {
     "slide_type": "subslide"
    },
    "tags": []
   },
   "source": [
    "<img src=media/while.png width=800 />"
   ]
  },
  {
   "cell_type": "markdown",
   "metadata": {
    "slideshow": {
     "slide_type": "subslide"
    },
    "tags": []
   },
   "source": [
    "```python\n",
    "while condition:\n",
    "    loop_body\n",
    "```"
   ]
  },
  {
   "cell_type": "markdown",
   "metadata": {
    "slideshow": {
     "slide_type": "fragment"
    },
    "tags": []
   },
   "source": [
    "<div class=\"alert alert-danger\">\n",
    "    🛑 <strong>Warning:</strong>  If you don't exit the condition (i.e. change its status to False eventually), Python will continue to run the loop forever! Your program will be stuck and, worse, you may start getting memory errors that are not much fun.\n",
    "</div>\n",
    "\n",
    "```python\n",
    "while True:\n",
    "    print(\"I will never stop.\")\n",
    "```"
   ]
  },
  {
   "cell_type": "markdown",
   "metadata": {
    "slideshow": {
     "slide_type": "skip"
    },
    "tags": []
   },
   "source": [
    "---"
   ]
  },
  {
   "cell_type": "markdown",
   "metadata": {
    "slideshow": {
     "slide_type": "subslide"
    },
    "tags": []
   },
   "source": [
    "<div class=\"alert alert-success\">\n",
    "💡 While loops are useful when we <strong>are not sure how many times a condition will be met.</strong>\n",
    "</div>"
   ]
  },
  {
   "cell_type": "markdown",
   "metadata": {
    "slideshow": {
     "slide_type": "notes"
    },
    "tags": []
   },
   "source": [
    "Instead of defining a number of repetitions, we keep iterating until our original condition is resolved.\n",
    "\n",
    "Additionally, similarly to `if` statement, you can add an `else` statement `while` to run a block of code once when the condition is no longer true."
   ]
  },
  {
   "cell_type": "code",
   "execution_count": 15,
   "metadata": {
    "slideshow": {
     "slide_type": "fragment"
    },
    "tags": []
   },
   "outputs": [
    {
     "name": "stdin",
     "output_type": "stream",
     "text": [
      "Enter a number between 0 and 10. 13\n"
     ]
    },
    {
     "name": "stdout",
     "output_type": "stream",
     "text": [
      "Incorrect input.\n"
     ]
    },
    {
     "name": "stdin",
     "output_type": "stream",
     "text": [
      "Enter a number between 0 and 10. 13\n"
     ]
    },
    {
     "name": "stdout",
     "output_type": "stream",
     "text": [
      "Incorrect input.\n"
     ]
    },
    {
     "name": "stdin",
     "output_type": "stream",
     "text": [
      "Enter a number between 0 and 10. 9\n"
     ]
    }
   ],
   "source": [
    "# Validate User Input with while\n",
    "number = int(input(\"Enter a number between 0 and 10.\"))\n",
    "while (number > 10) or (number < 0):                            # while number is larger than maximum or smaller than minimum\n",
    "    print(\"Incorrect input.\")                                   # print an error message\n",
    "    number = int(input(\"Enter a number between 0 and 10.\"))     # request again"
   ]
  },
  {
   "cell_type": "code",
   "execution_count": 17,
   "metadata": {
    "slideshow": {
     "slide_type": "subslide"
    },
    "tags": []
   },
   "outputs": [
    {
     "name": "stdout",
     "output_type": "stream",
     "text": [
      "10\n",
      "9\n",
      "8\n",
      "7\n",
      "6\n",
      "5\n",
      "4\n",
      "3\n",
      "2\n",
      "1\n",
      "0\n",
      "Happy New Year!\n"
     ]
    }
   ],
   "source": [
    "# New Year's Contdown with while\n",
    "seconds = 10                        # need to define variables first for the condition\n",
    "while seconds >= 0:                  # while we still have time left\n",
    "    print(seconds)                  # shout the countdown\n",
    "    seconds -= 1                    # reduce the countdown at each step\n",
    "else:                               # when there are no seconds left\n",
    "    print(\"Happy New Year!\")        # party!"
   ]
  },
  {
   "cell_type": "markdown",
   "metadata": {
    "slideshow": {
     "slide_type": "fragment"
    },
    "tags": []
   },
   "source": [
    "But wait! The \"New Year's Countdown\" is always from 10 to 0, we always have 10 steps until the champagne pops! Can't we use a better alternative? Correct!"
   ]
  },
  {
   "cell_type": "code",
   "execution_count": 54,
   "metadata": {},
   "outputs": [],
   "source": [
    "# your response here\n"
   ]
  },
  {
   "cell_type": "markdown",
   "metadata": {
    "slideshow": {
     "slide_type": "slide"
    },
    "tags": []
   },
   "source": [
    "## `for` each element\n",
    "\n",
    "\n",
    "<img src=media/repeat.png alt=\"Generated from https://ranzey.com/generators/bart/index.html\" title=\"Repetition\" width=400>\n",
    "\n",
    "\n",
    "<div class=\"alert alert-success\">\n",
    "    💡 When you know how many times a loop must occur, the <i>for</i> loop is your best friend. \n",
    "</div>"
   ]
  },
  {
   "cell_type": "markdown",
   "metadata": {
    "slideshow": {
     "slide_type": "notes"
    },
    "tags": []
   },
   "source": [
    "Instead of checking if a condition is met, the for iterates over an **iterable**: a Python object that can be used as a sequence by returning its members one at a time. There are many iterables available in Python, but for now we will focus on lists."
   ]
  },
  {
   "cell_type": "markdown",
   "metadata": {
    "slideshow": {
     "slide_type": "subslide"
    },
    "tags": []
   },
   "source": [
    "The syntax for writing `for` loops requires:\n",
    "\n",
    "```python\n",
    "for index in iterable:\n",
    "    code\n",
    "```\n",
    "\n",
    "The index (aka **control variable**) controls how many times the loop is executed; and has its value updated automatically after every cicle of the loop.\n",
    "\n",
    "\n",
    "For a fixed number of repetitions, we can use the `range` data type (cf. \"Data Types\")."
   ]
  },
  {
   "cell_type": "code",
   "execution_count": 22,
   "metadata": {
    "slideshow": {
     "slide_type": "subslide"
    },
    "tags": []
   },
   "outputs": [
    {
     "name": "stdout",
     "output_type": "stream",
     "text": [
      "I must not repeat code by hand - 0\n",
      "I must not repeat code by hand - 1\n",
      "I must not repeat code by hand - 2\n",
      "I must not repeat code by hand - 3\n",
      "I must not repeat code by hand - 4\n",
      "14\n"
     ]
    }
   ],
   "source": [
    "# for loop\n",
    "for el in range(5):\n",
    "    print(\"I must not repeat code by hand - \" + str(el))\n",
    "    new_val=el + 10\n",
    "    el +=2\n",
    "new_val\n",
    "el\n",
    "print(new_val)\n"
   ]
  },
  {
   "cell_type": "markdown",
   "metadata": {
    "slideshow": {
     "slide_type": "subslide"
    },
    "tags": []
   },
   "source": [
    "One important remark about **control variables**. They are variables and, as such, **they retain their value after being used in the `for` loop**. To avoid side effects from naming the control variable, you can:\n",
    "  - Use the variable **only** inside the for loop\n",
    "  - Provide a short, descriptive name"
   ]
  },
  {
   "cell_type": "code",
   "execution_count": 36,
   "metadata": {
    "slideshow": {
     "slide_type": "fragment"
    },
    "tags": []
   },
   "outputs": [
    {
     "name": "stdout",
     "output_type": "stream",
     "text": [
      "4\n"
     ]
    }
   ],
   "source": [
    "print(el)"
   ]
  },
  {
   "cell_type": "markdown",
   "metadata": {
    "slideshow": {
     "slide_type": "slide"
    },
    "tags": []
   },
   "source": [
    "#### `for` with lists, tuples, sets"
   ]
  },
  {
   "cell_type": "markdown",
   "metadata": {
    "slideshow": {
     "slide_type": "notes"
    },
    "tags": []
   },
   "source": [
    "We already saw `for` loops with the `range` sequence data type. Essentially, the loop takes each value for the control variable as we move along the range and executes the code. Besides `range`, we can also use `for` loops with other sequences (lists, tuples) and sets."
   ]
  },
  {
   "cell_type": "code",
   "execution_count": 31,
   "metadata": {
    "slideshow": {
     "slide_type": "fragment"
    },
    "tags": []
   },
   "outputs": [
    {
     "name": "stdout",
     "output_type": "stream",
     "text": [
      "Apple\n",
      "Saudi Aramco\n",
      "Microsoft\n",
      "Alphabet\n",
      "Amazon\n",
      "Apple tech\n",
      "Saudi Aramco tech\n",
      "Microsoft tech\n",
      "Alphabet tech\n",
      "Amazon tech\n"
     ]
    },
    {
     "data": {
      "text/plain": [
       "['Apple tech',\n",
       " 'Saudi Aramco tech',\n",
       " 'Microsoft tech',\n",
       " 'Alphabet tech',\n",
       " 'Amazon tech']"
      ]
     },
     "execution_count": 31,
     "metadata": {},
     "output_type": "execute_result"
    }
   ],
   "source": [
    "# for with lists\n",
    "companies_by_marketcap = [\"Apple\", \"Saudi Aramco\", \"Microsoft\", \"Alphabet\", \"Amazon\"]\n",
    "\n",
    "# for with list, tuples and sets\n",
    "for company in companies_by_marketcap:    # try with tuple, set\n",
    "    print(company)\n",
    "    #se colocar [companies_by_marketcap[1]] vai devolver apenas a string e não cada letra\n",
    "    #Se quiser, em cada item da lista mudar a 2 letra para um espaço temos de: \n",
    "tech_companies =[ ]     \n",
    "for company in companies_by_marketcap:\n",
    "    company =company + ' tech'\n",
    "    print (company)\n",
    "    tech_companies.append(company)\n",
    "tech_companies"
   ]
  },
  {
   "cell_type": "code",
   "execution_count": 60,
   "metadata": {},
   "outputs": [
    {
     "name": "stdout",
     "output_type": "stream",
     "text": [
      "['Appletechtechtechtechtech']\n",
      "['Appletechtechtechtechtech', 'Saudi Aramcotechtechtechtechtech']\n",
      "['Appletechtechtechtechtech', 'Saudi Aramcotechtechtechtechtech', 'Microsofttechtechtechtechtech']\n",
      "['Appletechtechtechtechtech', 'Saudi Aramcotechtechtechtechtech', 'Microsofttechtechtechtechtech', 'Alphabettechtechtechtechtech']\n",
      "['Appletechtechtechtechtech', 'Saudi Aramcotechtechtechtechtech', 'Microsofttechtechtechtechtech', 'Alphabettechtechtechtechtech', 'Amazontechtechtechtechtech']\n"
     ]
    }
   ],
   "source": [
    "#definir primeiro a primeira lista\n",
    "\n",
    "tech_companies2=[]\n",
    "for index in range (len(companies_by_marketcap)):\n",
    "    companies_by_marketcap[index] += 'tech'\n",
    "    tech_companies2.append(companies_by_marketcap[index])\n",
    "    \n",
    "   "
   ]
  },
  {
   "cell_type": "markdown",
   "metadata": {
    "slideshow": {
     "slide_type": "fragment"
    },
    "tags": []
   },
   "source": [
    "If you remember well our unit on \"Data Types\", you can understand why the ordering is kept in lists and tuples but not for sets."
   ]
  },
  {
   "cell_type": "markdown",
   "metadata": {
    "slideshow": {
     "slide_type": "slide"
    },
    "tags": []
   },
   "source": [
    "#### `for` with dictionaries\n",
    "\n",
    "Since dictionaries are essentially a mapping between keys and values, so there is no single way to iterate over them. We can iterate a dictionary over the:\n",
    "  - `.keys()`, *default*;\n",
    "  - `.values()`;\n",
    "  - `.items()`, essentially tuples of (key, value)."
   ]
  },
  {
   "cell_type": "code",
   "execution_count": 34,
   "metadata": {
    "slideshow": {
     "slide_type": "fragment"
    },
    "tags": []
   },
   "outputs": [],
   "source": [
    "# Market Capitalization, in $T\n",
    "marketcap = {\n",
    "    \"Apple\": 2.537, \n",
    "    \"Saudi Aramco\": 2.392, \n",
    "    \"Microsoft\": 2.074, \n",
    "    \"Alphabet\": 1.535, \n",
    "    \"Amazon\": 1.184\n",
    "}"
   ]
  },
  {
   "cell_type": "code",
   "execution_count": 39,
   "metadata": {
    "slideshow": {
     "slide_type": "subslide"
    },
    "tags": []
   },
   "outputs": [
    {
     "name": "stdout",
     "output_type": "stream",
     "text": [
      "Apple : 2.537\n",
      "Saudi Aramco : 2.392\n",
      "Microsoft : 2.074\n"
     ]
    }
   ],
   "source": [
    "# for key in dict. default, se quisermos tudo temos de colocar .items\n",
    "for company in marketcap:\n",
    "    if marketcap[company] > 2.000:\n",
    "        print(f\"{company} : {marketcap[company]}\")            # Apple, Saudi Aramco, etc."
   ]
  },
  {
   "cell_type": "code",
   "execution_count": null,
   "metadata": {
    "slideshow": {
     "slide_type": "subslide"
    },
    "tags": []
   },
   "outputs": [],
   "source": [
    "# for value in dict.\n",
    "for cap in marketcap.values():\n",
    "    print(cap)                # 2.537, 2.392, etc."
   ]
  },
  {
   "cell_type": "code",
   "execution_count": null,
   "metadata": {
    "slideshow": {
     "slide_type": "subslide"
    },
    "tags": []
   },
   "outputs": [],
   "source": [
    "# for items in dict\n",
    "for details in marketcap.items():\n",
    "    print(details)           # ('Apple', 2.537), ('Saudi Aramco', 2.392)"
   ]
  },
  {
   "cell_type": "markdown",
   "metadata": {
    "slideshow": {
     "slide_type": "slide"
    },
    "tags": []
   },
   "source": [
    "#### Nested for loops\n",
    "\n",
    "Similar to nesting `if-elif-else` statements, we can also use indentation to put together multiple for loops working towards the same goal.\n",
    "\n",
    "Let's calculate the number of tonnes produced by the largest 4 productors of Papaya in 3 years (2016-2018) [(data)](https://en.wikipedia.org/wiki/List_of_countries_by_papaya_production).\n",
    "\n",
    "*Pro Tip: Notice the underscore \"`_`\" character used below. This is helpful when writing large numbers to use as thousands separators.*"
   ]
  },
  {
   "cell_type": "code",
   "execution_count": 41,
   "metadata": {
    "slideshow": {
     "slide_type": "fragment"
    },
    "tags": []
   },
   "outputs": [],
   "source": [
    "# top producers, 2018 to 2016\n",
    "papaya_production = {\n",
    "    \"India\": [5_989_000, 5_940_000, 5_667_000],\n",
    "    \"Brazil\": [1_060_392, 1_058_487, 1_296_940],\n",
    "    \"Mexico\": [1_039_820, 961_768, 951_922],\n",
    "    \"Dominican Republic\": [1_022_498, 869_306, 863_201]\n",
    "}"
   ]
  },
  {
   "cell_type": "markdown",
   "metadata": {
    "slideshow": {
     "slide_type": "subslide"
    },
    "tags": []
   },
   "source": [
    "What is the total production achieved in all countries, in all years?"
   ]
  },
  {
   "cell_type": "code",
   "execution_count": null,
   "metadata": {},
   "outputs": [],
   "source": []
  },
  {
   "cell_type": "code",
   "execution_count": 57,
   "metadata": {},
   "outputs": [
    {
     "name": "stdout",
     "output_type": "stream",
     "text": [
      "26720334\n"
     ]
    }
   ],
   "source": [
    "papaya_yearly= {} #novo dicionario\n",
    "total_papayas = 0\n",
    "for country in papaya_production:\n",
    "    #print(sum(papaya_production[country]))\n",
    "    papaya_yearly[country]= sum(papaya_production[country])\n",
    "    total_papayas += papaya_yearly[country]\n",
    "\n",
    "\n",
    "print(total_papayas)\n",
    "#fazer somatorio total\n",
    "\n"
   ]
  },
  {
   "cell_type": "code",
   "execution_count": 53,
   "metadata": {
    "slideshow": {
     "slide_type": "fragment"
    },
    "tags": []
   },
   "outputs": [
    {
     "name": "stdout",
     "output_type": "stream",
     "text": [
      "The total production is 26,720,334 tonnes of papayas!\n"
     ]
    }
   ],
   "source": [
    "# calculate total production\n",
    "total_production = 0                                    # start sum with 0\n",
    "for country in papaya_production:                       # for each country (str)            \n",
    "    for year in papaya_production[country]:             # for each year\n",
    "        total_production += year                        # add to the total\n",
    "\n",
    "print(f\"The total production is {total_production:,} tonnes of papayas!\")"
   ]
  },
  {
   "cell_type": "markdown",
   "metadata": {
    "slideshow": {
     "slide_type": "skip"
    },
    "tags": []
   },
   "source": [
    "<div class=\"alert alert-success\">\n",
    "🎙️ <strong>QUIZZ:</strong> Can you find an easier way (or more intuitive) to solve the problem above?\n",
    "</div>\n",
    "\n",
    "<div class=\"hint\">\n",
    "🔎 <em>hint: Try checking the sum() function</em> \n",
    "</div>\n",
    "\n",
    "[sum function](https://www.geeksforgeeks.org/sum-function-python/)"
   ]
  },
  {
   "cell_type": "code",
   "execution_count": 52,
   "metadata": {},
   "outputs": [],
   "source": [
    "# code your response here\n"
   ]
  },
  {
   "cell_type": "markdown",
   "metadata": {
    "slideshow": {
     "slide_type": "slide"
    },
    "tags": []
   },
   "source": [
    "## continue, break"
   ]
  },
  {
   "cell_type": "markdown",
   "metadata": {
    "slideshow": {
     "slide_type": "notes"
    },
    "tags": []
   },
   "source": [
    "Traditionally, `while` and `for` loops execute smoothly their loop body for each iteration. But sometimes you may to stop it prematurely, **without executing all iterations**. To do so, you can:"
   ]
  },
  {
   "cell_type": "markdown",
   "metadata": {
    "slideshow": {
     "slide_type": "fragment"
    },
    "tags": []
   },
   "source": [
    "  - `continue` to the next iteration, ignoring the remaining loop body of the current iteration\n",
    "  - `break` the loop immediately, as if all iterations are complete."
   ]
  },
  {
   "cell_type": "markdown",
   "metadata": {
    "slideshow": {
     "slide_type": "notes"
    },
    "tags": []
   },
   "source": [
    "To test this out, let's go from 1 to 5. If the number is 3, first we skip (`continue`); then we try again but we `break` the loop completely."
   ]
  },
  {
   "cell_type": "code",
   "execution_count": 65,
   "metadata": {
    "slideshow": {
     "slide_type": "subslide"
    },
    "tags": []
   },
   "outputs": [
    {
     "name": "stdout",
     "output_type": "stream",
     "text": [
      "1\n",
      "2\n",
      "4\n",
      "5\n"
     ]
    }
   ],
   "source": [
    "# continue\n",
    "for i in range(1, 5+1):                 # don't forget range leaves out the 'end' element\n",
    "    if i == 3:\n",
    "        continue                        # avoids printing 3\n",
    "\n",
    "    else:\n",
    "        print(i)                        # prints all the rest"
   ]
  },
  {
   "cell_type": "code",
   "execution_count": 54,
   "metadata": {
    "slideshow": {
     "slide_type": "subslide"
    },
    "tags": []
   },
   "outputs": [
    {
     "name": "stdout",
     "output_type": "stream",
     "text": [
      "1\n",
      "2\n"
     ]
    }
   ],
   "source": [
    "# break\n",
    "for i in range(1, 5+1):                 # don't forget range leaves out the 'end' element\n",
    "    if i == 3:\n",
    "        break                           # exit the loop when we get to 3\n",
    "    else:\n",
    "        print(i)                        # prints just the first 2"
   ]
  },
  {
   "cell_type": "markdown",
   "metadata": {
    "slideshow": {
     "slide_type": "fragment"
    },
    "tags": []
   },
   "source": [
    "<div class=\"alert alert-warning\">\n",
    "            🎙️ <strong>QUIZ:</strong> Create a for loop that iterates through a range of 2 to 10.\n",
    "\n",
    "<div class=\"alert alert-warning\">\n",
    "            🎙️ <strong>QUIZ:</strong> Use the same loop, but if the number is even, you want to print it, otherwise, don't print it."
   ]
  },
  {
   "cell_type": "markdown",
   "metadata": {
    "slideshow": {
     "slide_type": "slide"
    },
    "tags": []
   },
   "source": [
    "## List Comprehension\n",
    "\n",
    "<img src=media/listcomprehension.png alt=\"\" title=\"List Comprehensions are Hybrid\" width=400>"
   ]
  },
  {
   "cell_type": "markdown",
   "metadata": {
    "slideshow": {
     "slide_type": "notes"
    },
    "tags": []
   },
   "source": [
    "We already saw how lists are useful and how to create them. There are a lot of simple ways to create lists, but since programmers are still lazy about them, a new, simpler concept of **List Comprehension** was developed. "
   ]
  },
  {
   "cell_type": "markdown",
   "metadata": {
    "slideshow": {
     "slide_type": "fragment"
    },
    "tags": []
   },
   "source": [
    "<div class=\"alert alert-info\">\n",
    "    📚 List comprehension allows using the values of a sequence or iterable, process them and store the results as elements of a new list. You can think of it as <strong>processing data in `for` loops and storing the elements in a new list</strong>.\n",
    "</div>"
   ]
  },
  {
   "cell_type": "markdown",
   "metadata": {
    "slideshow": {
     "slide_type": "subslide"
    },
    "tags": []
   },
   "source": [
    "To build a List Comprehension, the syntax comprises:\n",
    "```python\n",
    "[expression for control_variable in iterable]\n",
    "```\n",
    "\n",
    "Complex right? Not so! Let's break this into pieces:\n",
    "  - `expression`: how to process the control_variable to get the result you want \n",
    "  - `control_variable`: a variable that will take each value of iterable\n",
    "  - `iterable`: something we can extract values from, one step at a time."
   ]
  },
  {
   "cell_type": "code",
   "execution_count": 47,
   "metadata": {
    "slideshow": {
     "slide_type": "fragment"
    },
    "tags": []
   },
   "outputs": [
    {
     "data": {
      "text/plain": [
       "[1, 4, 9, 16]"
      ]
     },
     "execution_count": 47,
     "metadata": {},
     "output_type": "execute_result"
    }
   ],
   "source": [
    "# list comprehension\n",
    "[i ** 2 for i in range(1, 5)]"
   ]
  },
  {
   "cell_type": "markdown",
   "metadata": {
    "slideshow": {
     "slide_type": "slide"
    },
    "tags": []
   },
   "source": [
    "### (Advanced) Multiple `for` loops, `if` statement and nesting\n",
    "\n",
    "Besides the vanilla list comprehension, we can add a bit of spice with more complex processing logic: \n",
    "  1. iterate over multiple iterables by applying multiple for loops;\n",
    "  2. adding a conditional `if` statement to check for conditions;\n",
    "  3. nesting multiple list comprehensions\n"
   ]
  },
  {
   "cell_type": "markdown",
   "metadata": {
    "slideshow": {
     "slide_type": "subslide"
    },
    "tags": []
   },
   "source": [
    "#### Multiple `for` \n",
    "\n",
    "The **multiple `for`** creates ordered loops, from left to right, where each right-most loops (aka *inner*) must fully complete until we start iterating over the next to its left.\n",
    "\n",
    "In the example below, we have by order:\n",
    "  1. `1 * 5 * 100 = 500`\n",
    "  2. `1 * 5 * 101 = 505` (z loop completes, increase w step, restart z)\n",
    "  3. `1 * 6 * 100 = 600`\n",
    "  4. `1 * 6 * 101 = 606` (z & w loop completes, increase h, restart z & w,)\n",
    "  5. `2 * 5 * 100 = 1000`\n",
    "  6. and so forth"
   ]
  },
  {
   "cell_type": "code",
   "execution_count": 48,
   "metadata": {
    "slideshow": {
     "slide_type": "fragment"
    },
    "tags": []
   },
   "outputs": [
    {
     "data": {
      "text/plain": [
       "[500, 505, 600, 606, 1000, 1010, 1200, 1212]"
      ]
     },
     "execution_count": 48,
     "metadata": {},
     "output_type": "execute_result"
    }
   ],
   "source": [
    "# multiple comprehension\n",
    "[h * w * z \n",
    "     for h in range(1, 3) \n",
    "     for w in range(5, 7) \n",
    "     for z in range(100,102)\n",
    "]"
   ]
  },
  {
   "cell_type": "markdown",
   "metadata": {
    "slideshow": {
     "slide_type": "subslide"
    },
    "tags": []
   },
   "source": [
    "#### Conditional Comprehensions \n",
    "\n",
    "We can also add conditioning with an `if` statement that filters the elements that are used to create the new list. If the condition is `True`, we iterate as usual; otherwise we skip the result in a similar way to `continue`."
   ]
  },
  {
   "cell_type": "code",
   "execution_count": 49,
   "metadata": {
    "slideshow": {
     "slide_type": "fragment"
    },
    "tags": []
   },
   "outputs": [
    {
     "data": {
      "text/plain": [
       "[0, 3, 6, 9, 12]"
      ]
     },
     "execution_count": 49,
     "metadata": {},
     "output_type": "execute_result"
    }
   ],
   "source": [
    "# conditional comprehension\n",
    "[i for i in range(15) if i % 3 == 0]                # store only numbers fully divisible by 3"
   ]
  },
  {
   "cell_type": "markdown",
   "metadata": {
    "slideshow": {
     "slide_type": "subslide"
    },
    "tags": []
   },
   "source": [
    "#### Nested Comprehensions\n",
    "\n",
    "We can nest several list comprehension statements together. Instead of returning a single list like the multiple `for` comprehension above, nested comprehensions will return a list of lists. By predecedence, the *inner loop* (first to complete) is now the list inside the larger comprehension, and this inner loop will be used as the expression of the latter comprehension."
   ]
  },
  {
   "cell_type": "code",
   "execution_count": 50,
   "metadata": {
    "slideshow": {
     "slide_type": "fragment"
    },
    "tags": []
   },
   "outputs": [
    {
     "data": {
      "text/plain": [
       "[[0, 6, 12, 18], [0, 7, 14, 21], [0, 8, 16, 24], [0, 9, 18, 27]]"
      ]
     },
     "execution_count": 50,
     "metadata": {},
     "output_type": "execute_result"
    }
   ],
   "source": [
    "# nested comprehension\n",
    "[[x*y for x in range(4)] for y in range(6, 10)]    # creates a list for each y"
   ]
  },
  {
   "cell_type": "markdown",
   "metadata": {
    "slideshow": {
     "slide_type": "skip"
    },
    "tags": []
   },
   "source": [
    "---"
   ]
  },
  {
   "cell_type": "markdown",
   "metadata": {
    "slideshow": {
     "slide_type": "subslide"
    },
    "tags": []
   },
   "source": [
    "#### Comprehension vs `for`\n",
    "So, when should I use List Comprehension instead of a `for` loop? \n",
    "\n",
    "<div class=\"alert alert-success\">\n",
    "    💡If you believe you can define, in <strong>one line of code</strong>, all the processing logic you need, then <strong>List Comprehension</strong> is the go-to strategy. \n",
    "</div>\n",
    "A `for` loop doesn't have much size restrictions: you can open a loop and have a multitude of instructions inside it that, as long as they are correctly indented, they will run smoothly.\n",
    "\n",
    "Also, contrary to `for` loops, list comprehensions do not *spill* the `control_variable` to the rest of the code."
   ]
  },
  {
   "cell_type": "code",
   "execution_count": 51,
   "metadata": {
    "slideshow": {
     "slide_type": "fragment"
    },
    "tags": []
   },
   "outputs": [
    {
     "data": {
      "text/plain": [
       "[2, 2, 2]"
      ]
     },
     "execution_count": 51,
     "metadata": {},
     "output_type": "execute_result"
    }
   ],
   "source": [
    "# comprehensions avoid spilling\n",
    "[2 for jdj in range(3)]\n",
    "# print(jdj)                    # NameError: name 'jdj' is not defined"
   ]
  },
  {
   "cell_type": "markdown",
   "metadata": {
    "slideshow": {
     "slide_type": "slide"
    },
    "tags": []
   },
   "source": [
    "## Recap\n",
    "\n",
    "Congratulations, you made it all the way \"Iteration and Flow\" unit! Even if you don't fully understand ALL the concepts, picking up one-by-one and starting some experiments will be fundamental to master Python. These blocks will allow you to correctly define the flow and guarantee your programs run as they should. By the end of this notebook, you should have a clear idea of:\n",
    "  1. Flow Control and why do we need it;\n",
    "  2. How is Indentation used in Python;\n",
    "  3. Conditional statements with `if-elif-else`;\n",
    "  4. Loop statements with `while`, `for`;\n",
    "  5. Flow Override with `continue`, `break`;\n",
    "  6. List Comprehensions."
   ]
  }
 ],
 "metadata": {
  "interpreter": {
   "hash": "62450144029c700d9828a520a84c849f57ec997bbb5cd86252d9dcd358a93bcf"
  },
  "kernelspec": {
   "display_name": "Python 3 (ipykernel)",
   "language": "python",
   "name": "python3"
  },
  "language_info": {
   "codemirror_mode": {
    "name": "ipython",
    "version": 3
   },
   "file_extension": ".py",
   "mimetype": "text/x-python",
   "name": "python",
   "nbconvert_exporter": "python",
   "pygments_lexer": "ipython3",
   "version": "3.10.9"
  }
 },
 "nbformat": 4,
 "nbformat_minor": 4
}
