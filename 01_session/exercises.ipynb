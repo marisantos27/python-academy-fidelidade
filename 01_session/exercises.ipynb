{
 "cells": [
  {
   "cell_type": "markdown",
   "metadata": {},
   "source": [
    "# Exercises\n",
    "\n",
    "\n",
    "## General Python\n",
    "\n",
    "Let's build a simple **form application**. Your task will be to **ask the users some information**, **store it** in variables, perform **simple operations** and **display a user report** in the end. The form must:\n",
    "  1. Ask for the user's name, weirdest habit, favourite hobbie and best quality;\n",
    "  2. Store the informations in variables, which are easily readable;\n",
    "  3. Display a profile report about the user."
   ]
  },
  {
   "cell_type": "code",
   "execution_count": 15,
   "metadata": {},
   "outputs": [
    {
     "name": "stdin",
     "output_type": "stream",
     "text": [
      "Enter your name: Marisa\n",
      "Enter your weirdest habit: 1\n",
      "Enter your favorite hobbie: 2\n",
      "Enter your best quality: 3\n"
     ]
    },
    {
     "name": "stdout",
     "output_type": "stream",
     "text": [
      "A Marisa has the weirds habit of 1 and her favourite hobbie is 2,\n",
      "also her best quality is 3.\n"
     ]
    },
    {
     "ename": "NameError",
     "evalue": "name 'favourire_hobbie' is not defined",
     "output_type": "error",
     "traceback": [
      "\u001b[1;31m---------------------------------------------------------------------------\u001b[0m",
      "\u001b[1;31mNameError\u001b[0m                                 Traceback (most recent call last)",
      "Cell \u001b[1;32mIn[15], line 9\u001b[0m\n\u001b[0;32m      4\u001b[0m best_quality\u001b[38;5;241m=\u001b[39m \u001b[38;5;28minput\u001b[39m(\u001b[38;5;124m\"\u001b[39m\u001b[38;5;124mEnter your best quality:\u001b[39m\u001b[38;5;124m\"\u001b[39m)\n\u001b[0;32m      6\u001b[0m \u001b[38;5;28mprint\u001b[39m( \u001b[38;5;124mf\u001b[39m\u001b[38;5;124m\"\"\"\u001b[39m\u001b[38;5;124mA \u001b[39m\u001b[38;5;132;01m{\u001b[39;00mname\u001b[38;5;132;01m}\u001b[39;00m\u001b[38;5;124m has the weirds habit of \u001b[39m\u001b[38;5;132;01m{\u001b[39;00mweirdest_habit\u001b[38;5;132;01m}\u001b[39;00m\u001b[38;5;124m and her favourite hobbie is \u001b[39m\u001b[38;5;132;01m{\u001b[39;00mfavourite_hobbie\u001b[38;5;132;01m}\u001b[39;00m\u001b[38;5;124m,\u001b[39m\n\u001b[0;32m      7\u001b[0m \u001b[38;5;124malso her best quality is \u001b[39m\u001b[38;5;132;01m{\u001b[39;00mbest_quality\u001b[38;5;132;01m}\u001b[39;00m\u001b[38;5;124m.\u001b[39m\u001b[38;5;124m\"\"\"\u001b[39m)\n\u001b[1;32m----> 9\u001b[0m user_specs\u001b[38;5;241m=\u001b[39m [name, weirdest_habit, \u001b[43mfavourire_hobbie\u001b[49m, best_quality]\n\u001b[0;32m     11\u001b[0m user_specs\n",
      "\u001b[1;31mNameError\u001b[0m: name 'favourire_hobbie' is not defined"
     ]
    }
   ],
   "source": [
    "name=input (\"Enter your name:\")\n",
    "weirdest_habit= input (\"Enter your weirdest habit:\")\n",
    "favourite_hobbie = input (\"Enter your favorite hobbie:\")\n",
    "best_quality= input(\"Enter your best quality:\")\n",
    "\n",
    "print( f\"\"\"A {name} has the weirds habit of {weirdest_habit} and her favourite hobbie is {favourite_hobbie},\n",
    "also her best quality is {best_quality}.\"\"\")\n",
    "\n",
    "user_specs= [name, weirdest_habit, favourite_hobbie, best_quality]\n",
    "\n",
    "user_specs\n",
    "\n",
    "\n",
    "\n",
    "\n",
    "\n",
    "\n",
    "\n",
    "\n",
    "\n",
    "        "
   ]
  },
  {
   "cell_type": "code",
   "execution_count": 26,
   "metadata": {},
   "outputs": [],
   "source": [
    " \n",
    "\n",
    "formulario= dict(name=\"Marisa\", weirdest_habit=\"xpto\", favourite_hobbie=\"xpto1\", best_quality=\"xpto2\")\n",
    "\n",
    "formulario[\"idade\"] = 10 \n",
    "formulario [\"idade\"]= 11\n",
    "\n",
    "list_keys=formulario.keys()\n",
    "list_keys\n",
    "\n",
    "\n",
    "\n",
    "other_set= {'name','profession', 'height', 'hobbie'}\n",
    "\n",
    "\n",
    "\n",
    "\n",
    "\n",
    "\n"
   ]
  },
  {
   "cell_type": "code",
   "execution_count": null,
   "metadata": {},
   "outputs": [],
   "source": []
  },
  {
   "cell_type": "code",
   "execution_count": 23,
   "metadata": {},
   "outputs": [],
   "source": [
    "type(list(list_keys))\n",
    "list_keys=list(list_keys)"
   ]
  },
  {
   "cell_type": "code",
   "execution_count": 28,
   "metadata": {},
   "outputs": [
    {
     "data": {
      "text/plain": [
       "{'best_quality', 'favourite_hobbie', 'idade', 'name', 'weirdest_habit'}"
      ]
     },
     "execution_count": 28,
     "metadata": {},
     "output_type": "execute_result"
    }
   ],
   "source": [
    "list_keys=set(list_keys)\n",
    "list_keys\n"
   ]
  },
  {
   "cell_type": "code",
   "execution_count": 29,
   "metadata": {},
   "outputs": [
    {
     "data": {
      "text/plain": [
       "{'name'}"
      ]
     },
     "execution_count": 29,
     "metadata": {},
     "output_type": "execute_result"
    }
   ],
   "source": [
    "list_keys.intersection(other_set)"
   ]
  },
  {
   "cell_type": "code",
   "execution_count": 31,
   "metadata": {},
   "outputs": [
    {
     "data": {
      "text/plain": [
       "{'height', 'hobbie', 'profession'}"
      ]
     },
     "execution_count": 31,
     "metadata": {},
     "output_type": "execute_result"
    }
   ],
   "source": [
    "other_set.difference(list_keys)"
   ]
  },
  {
   "cell_type": "markdown",
   "metadata": {},
   "source": [
    "## Choosing Data Types\n",
    "\n",
    "For the following variables, assign the most appropriate data type:\n",
    "\n",
    "  1. A cat's name;\n",
    "  2. Personality traits of your colleague;\n",
    "  3. Conversion rate mile to kilometer;\n",
    "  4. Translation between spanish and english, word by word (like in the old-time Google Translate);\n",
    "  5. Number of olympic swimming pools in the world"
   ]
  },
  {
   "cell_type": "code",
   "execution_count": 2,
   "metadata": {},
   "outputs": [],
   "source": [
    "### ASSIGN DATA TYPES HERE\n",
    "# Cat's name - Constant\n",
    "# Personality traits - List\n",
    "# Conversion rate km/mile -\n",
    "# Translation es/en - dicionario\n",
    "# Swimming pools - inteiro"
   ]
  },
  {
   "cell_type": "markdown",
   "metadata": {},
   "source": [
    "\n",
    "## Googling Skills\n",
    "\n",
    "Search what is the Pythonic way to\n",
    "- Get the number of items in a dict, set, tuple and list\n",
    "- Check if an element exists in a dict, set, tuple or list\n",
    "- Change the value of a specific element in a list (e.g. 2nd item) \n",
    "- Reverse the items in a list"
   ]
  },
  {
   "cell_type": "code",
   "execution_count": 3,
   "metadata": {
    "slideshow": {
     "slide_type": "slide"
    },
    "tags": []
   },
   "outputs": [],
   "source": [
    "### SOLUTION\n",
    "# number of items - Len\n",
    "# element exists - if element in [list]\n",
    "# change value - lista[1]= 'xpto' \n",
    "# reverse items - lista.reverse()\n",
    "#order a dictionary by values -  "
   ]
  },
  {
   "cell_type": "code",
   "execution_count": null,
   "metadata": {},
   "outputs": [],
   "source": []
  },
  {
   "cell_type": "markdown",
   "metadata": {},
   "source": [
    "## Iteration Flow"
   ]
  },
  {
   "cell_type": "markdown",
   "metadata": {},
   "source": [
    "### Exercise 1 - Choice Master\n",
    "\n",
    "**(NO CODE)** Choose the most appropriate flow control for the imaginary applications below. Choose from if-else, while, for, continue, break.\n",
    "\n",
    "- 1: Given a list of people `['John', 'Maggie', 'Mark']`, greet them by name (print \"Hi\" + name) \n",
    "- 2: Wait until the user gives you a correct input.\n",
    "- 3: Between 1 and 10, print the numbers 6 and 7. Skip everything else."
   ]
  },
  {
   "cell_type": "code",
   "execution_count": 36,
   "metadata": {},
   "outputs": [
    {
     "name": "stdout",
     "output_type": "stream",
     "text": [
      "6\n",
      "7\n"
     ]
    }
   ],
   "source": [
    "### INSERT SOLUTION\n",
    "\n",
    "#1- for\n",
    "#2-while\n",
    "#3- \n",
    "range(1,11)\n",
    "\n",
    "for i in range(1,11):\n",
    "    if i ==6 or i==7:\n",
    "        print(i)\n",
    "\n",
    "\n",
    "\n",
    "\n"
   ]
  },
  {
   "cell_type": "code",
   "execution_count": 43,
   "metadata": {},
   "outputs": [
    {
     "data": {
      "text/plain": [
       "[6, 7]"
      ]
     },
     "execution_count": 43,
     "metadata": {},
     "output_type": "execute_result"
    }
   ],
   "source": [
    "[i for i in range(1,11) if i==6 or i==7]"
   ]
  },
  {
   "cell_type": "markdown",
   "metadata": {},
   "source": [
    "### Exercise 2 - Happy New Year\n",
    "\n",
    "Create two New Year's Countdowns, one with `while` and one with `for` loops. At \"midnight\", print \"HAPPY NEW YEAR FOLKS!\".\n",
    "\n",
    "*Tip: don't forget the `range` from Session 1."
   ]
  },
  {
   "cell_type": "code",
   "execution_count": 58,
   "metadata": {},
   "outputs": [
    {
     "name": "stdout",
     "output_type": "stream",
     "text": [
      "24\n",
      "23\n",
      "22\n",
      "21\n",
      "20\n",
      "19\n",
      "18\n",
      "17\n",
      "16\n",
      "15\n",
      "14\n",
      "13\n",
      "12\n",
      "11\n",
      "10\n",
      "9\n",
      "8\n",
      "7\n",
      "6\n",
      "5\n",
      "4\n",
      "3\n",
      "2\n",
      "1\n",
      "0\n",
      "HAPPY NEW YEAR\n"
     ]
    }
   ],
   "source": [
    "hour=24\n",
    "\n",
    "while hour  >= 0:\n",
    "    print(hour)\n",
    "    hour -= 1\n",
    "else: \n",
    "    print(\"HAPPY NEW YEAR\")\n",
    "\n"
   ]
  },
  {
   "cell_type": "code",
   "execution_count": 73,
   "metadata": {},
   "outputs": [
    {
     "name": "stdout",
     "output_type": "stream",
     "text": [
      "24\n",
      "23\n",
      "22\n",
      "21\n",
      "20\n",
      "19\n",
      "18\n",
      "17\n",
      "16\n",
      "15\n",
      "14\n",
      "13\n",
      "12\n",
      "11\n",
      "10\n",
      "9\n",
      "8\n",
      "7\n",
      "6\n",
      "5\n",
      "4\n",
      "3\n",
      "2\n",
      "1\n",
      "0\n",
      "HAPPY NEW YEAR\n"
     ]
    },
    {
     "data": {
      "text/plain": [
       "[None,\n",
       " None,\n",
       " None,\n",
       " None,\n",
       " None,\n",
       " None,\n",
       " None,\n",
       " None,\n",
       " None,\n",
       " None,\n",
       " None,\n",
       " None,\n",
       " None,\n",
       " None,\n",
       " None,\n",
       " None,\n",
       " None,\n",
       " None,\n",
       " None,\n",
       " None,\n",
       " None,\n",
       " None,\n",
       " None,\n",
       " None,\n",
       " None,\n",
       " None]"
      ]
     },
     "execution_count": 73,
     "metadata": {},
     "output_type": "execute_result"
    }
   ],
   "source": [
    "\n",
    "    \n",
    "[print(i) if i > -1 else print('HAPPY NEW YEAR') for i in range(24,-2,-1) ]\n",
    "    \n",
    "    \n",
    "    \n",
    "    \n",
    "    \n",
    "  \n"
   ]
  },
  {
   "cell_type": "markdown",
   "metadata": {},
   "source": [
    "### Exercise 3 - Large Caps\n",
    "\n",
    "Given the dict below of companies with largest market cap, create a new `marketcap_large` dictionary containing only companies above 2$T."
   ]
  },
  {
   "cell_type": "code",
   "execution_count": null,
   "metadata": {},
   "outputs": [],
   "source": []
  },
  {
   "cell_type": "code",
   "execution_count": 75,
   "metadata": {},
   "outputs": [],
   "source": [
    "# Market Capitalization, in $T\n",
    "marketcap = {\n",
    "    \"Apple\": 2.537, \n",
    "    \"Saudi Aramco\": 2.392, \n",
    "    \"Microsoft\": 2.074, \n",
    "    \"Alphabet\": 1.535, \n",
    "    \"Amazon\": 1.184\n",
    "}"
   ]
  },
  {
   "cell_type": "code",
   "execution_count": 76,
   "metadata": {},
   "outputs": [
    {
     "name": "stdout",
     "output_type": "stream",
     "text": [
      "Apple\n",
      "Saudi Aramco\n",
      "Microsoft\n"
     ]
    }
   ],
   "source": [
    "for i in marketcap:\n",
    "    if marketcap[i] > 2.000:\n",
    "        print(i)"
   ]
  },
  {
   "cell_type": "markdown",
   "metadata": {},
   "source": [
    "### Exercise 4 - Months\n",
    "\n",
    "test_list = [\"Jan\",\"Feb\",\"Mar\",\"Apr\",\"May\",\"Jun\",Jul\",\"Aug\",\"Sep\",\"Oct\",\"Nov\",\"Dec\"]\n",
    "\n",
    "using this test_list, print all months in the year that have 31 days. If they start with an M, print them uppercased"
   ]
  },
  {
   "cell_type": "code",
   "execution_count": null,
   "metadata": {},
   "outputs": [],
   "source": []
  },
  {
   "cell_type": "markdown",
   "metadata": {},
   "source": [
    "<img src=media/congratulations.png width=900/>"
   ]
  },
  {
   "cell_type": "markdown",
   "metadata": {},
   "source": [
    "### Congratulations!! You've successfully finished the first session of Python 101! \n",
    "\n",
    "#### Go take a rest and we'll see again in session 02\n",
    "\n"
   ]
  },
  {
   "cell_type": "markdown",
   "metadata": {},
   "source": [
    "<img src=media/session1_ending.png width=900/>"
   ]
  },
  {
   "cell_type": "markdown",
   "metadata": {},
   "source": []
  }
 ],
 "metadata": {
  "interpreter": {
   "hash": "62450144029c700d9828a520a84c849f57ec997bbb5cd86252d9dcd358a93bcf"
  },
  "kernelspec": {
   "display_name": "Python 3 (ipykernel)",
   "language": "python",
   "name": "python3"
  },
  "language_info": {
   "codemirror_mode": {
    "name": "ipython",
    "version": 3
   },
   "file_extension": ".py",
   "mimetype": "text/x-python",
   "name": "python",
   "nbconvert_exporter": "python",
   "pygments_lexer": "ipython3",
   "version": "3.10.9"
  }
 },
 "nbformat": 4,
 "nbformat_minor": 4
}
