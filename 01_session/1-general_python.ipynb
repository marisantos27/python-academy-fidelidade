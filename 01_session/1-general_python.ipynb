{
 "cells": [
  {
   "cell_type": "markdown",
   "metadata": {
    "slideshow": {
     "slide_type": "slide"
    },
    "tags": []
   },
   "source": [
    "# General Python\n",
    "\n",
    "Welcome to your first unit in the Python Academy! In this notebook, you will learn:\n",
    "- Introduction to Programming\n",
    "- Why Python\n",
    "- How to run Python\n",
    "- Basic Input/Output Operations\n",
    "- Variables, NameError and Constants\n",
    "- Operators"
   ]
  },
  {
   "cell_type": "markdown",
   "metadata": {
    "slideshow": {
     "slide_type": "slide"
    },
    "tags": []
   },
   "source": [
    "## Why Python\n",
    "\n",
    "<img src=\"media/python.png\" alt=\"\" title=\"Python Logo\" width=\"250\" />\n",
    "\n",
    "Python is a widely used, general-purpose, high-level, object-oriented programming language. The [name](https://docs.python.org/3/faq/general.html#id19) comes as an homage to (the hugely recommended) comedy series [Monty Python's Flying Circus](https://en.wikipedia.org/wiki/Monty_Python%27s_Flying_Circus). \n",
    "\n",
    "Python's popularity ranks high on a vast number of surveys ([PYPL](https://pypl.github.io/PYPL.html), [TIOBE Index](https://www.tiobe.com/tiobe-index/) or [Stack Overflow's Developer Survey](https://insights.stackoverflow.com/survey/2021#technology-most-popular-technologies))."
   ]
  },
  {
   "cell_type": "markdown",
   "metadata": {
    "slideshow": {
     "slide_type": "subslide"
    },
    "tags": []
   },
   "source": [
    "\n",
    "According to the [original docs](https://www.python.org/about/), Python is:\n",
    "- **powerful** \n",
    "- **fast**\n",
    "- **plays well with others**\n",
    "- **runs everywhere**\n",
    "- **friendly & easy to learn**\n",
    "- **open**\n",
    "\n"
   ]
  },
  {
   "cell_type": "markdown",
   "metadata": {
    "slideshow": {
     "slide_type": "notes"
    },
    "tags": []
   },
   "source": [
    "*{personal notes}*\n",
    "- *{general-purpose focus means you can do a lot and with a lot of different things, just with a single programming language}*\n",
    "- *{well.. kinda.. the language itself is not that fast natively, but some packages like [Numpy](https://numpy.org/) allow for much greater speeds in specific executions}*\n",
    "- *{integrations with other programming languages, developing APIs, acessing databases is pretty easy}*\n",
    "- *{many different devices and OSs}*\n",
    "- *{high-level, with a lot of friendly abstractions}*\n",
    "- *{free to use and contribute}*"
   ]
  },
  {
   "cell_type": "markdown",
   "metadata": {
    "slideshow": {
     "slide_type": "slide"
    },
    "tags": []
   },
   "source": [
    "## How to run Python\n",
    "\n",
    "There are many alternatives to run Python. On short, we advise:\n",
    "1. **shell** for very quick prototypes;\n",
    "2. **notebooks** for experiments; and \n",
    "3. **scripts** for stable programs."
   ]
  },
  {
   "cell_type": "markdown",
   "metadata": {
    "slideshow": {
     "slide_type": "subslide"
    },
    "tags": []
   },
   "source": [
    "### Shell\n",
    "\n",
    "<img src=\"media/shell.png\" alt=\"\" title=\"Shell Prototyping\" width=\"500\" />\n",
    "\n",
    " \n",
    "Shells are helpful for **quick prototyping** and **simple ideas**, but they lack the stability of scripts or notebooks for longer programs."
   ]
  },
  {
   "cell_type": "markdown",
   "metadata": {
    "slideshow": {
     "slide_type": "notes"
    },
    "tags": []
   },
   "source": [
    "The simplest is to start a Python shell. Linux users most likely have Python already installed (e.g. type `python`/`python3` in your terminal). The shell allows you to code interactively, by defining variables and functions on-the-go and enabling you to quickly access the value stored for each variable.\n",
    "\n",
    "\n",
    "A good alternative to the colorless, lifeless shell that comes with native Python is the [IPython](https://ipython.org/)."
   ]
  },
  {
   "cell_type": "markdown",
   "metadata": {
    "slideshow": {
     "slide_type": "subslide"
    },
    "tags": []
   },
   "source": [
    "### Notebooks\n",
    "\n",
    "<img src=media/notebooks.png width=800 />\n",
    "\n",
    "The notebooks are originally designed for sharing **\"computational documents\"**. What this means is that you can code, write text, define equations and add media in a single unified document."
   ]
  },
  {
   "cell_type": "markdown",
   "metadata": {
    "slideshow": {
     "slide_type": "notes"
    },
    "tags": []
   },
   "source": [
    "To run your first commands in Python, we will use [Jupyter Notebooks](https://jupyter.org/) for simplicity (like the one we are in right now!)."
   ]
  },
  {
   "cell_type": "markdown",
   "metadata": {
    "slideshow": {
     "slide_type": "notes"
    },
    "tags": []
   },
   "source": [
    "Notebooks are a great way to develop content that is intended to share with others. If you are experimenting a proof-of-concept that you'll need to present later, run a data analysis or teach someone how to code (like we are doing today), sharing notebooks is the best way to create content."
   ]
  },
  {
   "cell_type": "markdown",
   "metadata": {
    "slideshow": {
     "slide_type": "subslide"
    },
    "tags": []
   },
   "source": [
    "### Scripts\n",
    "\n",
    "<img src=media/script.png width=700 />\n",
    "\n",
    "Scripts are **static files** with Python language that contain the code you want to **run all at once** (contrary to the shell and the notebooks which are interactive). "
   ]
  },
  {
   "cell_type": "markdown",
   "metadata": {
    "slideshow": {
     "slide_type": "notes"
    },
    "tags": []
   },
   "source": [
    "Python files are recognizable by their `.py` suffix. Scripts are runnable by typing `python` followed by the name of the file (e.g. `python scripts/what_time.py`). \n",
    "\n",
    "\n",
    "For more complex projects, code that is either scripts enable you to create [modules](https://docs.python.org/3/tutorial/modules.html) which usually contain pieces of code you will run more than once (do it once, reuse forever)."
   ]
  },
  {
   "cell_type": "markdown",
   "metadata": {
    "slideshow": {
     "slide_type": "subslide"
    },
    "tags": []
   },
   "source": [
    "<img src=media/run-python.png width=900/>"
   ]
  },
  {
   "cell_type": "markdown",
   "metadata": {
    "slideshow": {
     "slide_type": "skip"
    },
    "tags": []
   },
   "source": [
    "## Variables, NameError and Constants"
   ]
  },
  {
   "cell_type": "markdown",
   "metadata": {
    "slideshow": {
     "slide_type": "slide"
    },
    "tags": []
   },
   "source": [
    "### Variables\n",
    "\n",
    "\n",
    "A **variable** is a container for a value. We use variables to store values that we can later use by their names. Instead of memorizing all the values, we store the value once and perform all of the operations referencing their name afterwards."
   ]
  },
  {
   "cell_type": "code",
   "execution_count": null,
   "metadata": {
    "slideshow": {
     "slide_type": "fragment"
    },
    "tags": []
   },
   "outputs": [],
   "source": [
    "# Define a new variable. Try changing the feeling within the quotation marks.\n",
    "feeling = \"good\"\n",
    "\n",
    "# Just a way to print your feelings. Ignore the details for now.\n",
    "print(f\"I'm feeling {feeling}!\")"
   ]
  },
  {
   "cell_type": "markdown",
   "metadata": {
    "slideshow": {
     "slide_type": "subslide"
    },
    "tags": []
   },
   "source": [
    "We can perform multiple operations (cf. \"Operators\" section) based on the variables' names alone!"
   ]
  },
  {
   "cell_type": "code",
   "execution_count": null,
   "metadata": {
    "slideshow": {
     "slide_type": "fragment"
    },
    "tags": []
   },
   "outputs": [],
   "source": [
    "# each hour has 60 minutes\n",
    "minutes_of_hour = 60\n",
    "\n",
    "# hours per day\n",
    "hours_of_day = 24\n",
    "\n",
    "# minutes in a day\n",
    "minutes_of_day = minutes_of_hour * hours_of_day\n",
    "\n",
    "print(f\"We have {minutes_of_day} minutes in a day!\")"
   ]
  },
  {
   "cell_type": "markdown",
   "metadata": {
    "slideshow": {
     "slide_type": "subslide"
    },
    "tags": []
   },
   "source": [
    "<div class=\"alert alert-warning\">\n",
    "    ⚠️ Variables in Python can change to any value you want along the way. They are <strong> mutable in type and value</strong>.\n",
    "</div>"
   ]
  },
  {
   "cell_type": "markdown",
   "metadata": {
    "slideshow": {
     "slide_type": "notes"
    },
    "tags": []
   },
   "source": [
    "<div class=\"alert alert-info\">\n",
    "    <strong>(Advanced)</strong> In Python, there is no method for defining variables (like in C programming) without an inherent value; they are automatically created whenever we give them a value.\n",
    "</div>"
   ]
  },
  {
   "cell_type": "code",
   "execution_count": null,
   "metadata": {
    "slideshow": {
     "slide_type": "fragment"
    },
    "tags": []
   },
   "outputs": [],
   "source": [
    "# define a variable with an integer of 60 as its value\n",
    "minutes_of_hour = 60\n",
    "\n",
    "# let's break our time concepts! \n",
    "minutes_of_hour = 30\n",
    "\n",
    "# Now with text instead of numbers!\n",
    "minutes_of_hour = \"thirty\"\n",
    "\n",
    "# Experiment commenting the multiple definitions and check what happens.\n",
    "print(f\"We have {minutes_of_hour} minutes in an hour.\")"
   ]
  },
  {
   "cell_type": "markdown",
   "metadata": {
    "slideshow": {
     "slide_type": "slide"
    },
    "tags": []
   },
   "source": [
    "### Naming Variables, NameError\n",
    "\n",
    "Naming a variable is a skill that most developers are required to posess. Along with the **mandatory rules** defined by the Python language itself (see below), your variables' names should be **intuitive** and easy to read. There are several [naming conventions](https://realpython.com/python-pep8/#naming-conventions) you can follow to improve your naming skills."
   ]
  },
  {
   "cell_type": "markdown",
   "metadata": {
    "slideshow": {
     "slide_type": "fragment"
    },
    "tags": []
   },
   "source": [
    "For the hard rules of naming, some of Python's constraints include:\n",
    "- The name can only be composed of **upper- and lower-case letters**, **digits** and the **underscore** character \"_\".\n",
    "- The name has to **start with a letter**. The underscore is considered a letter.\n",
    "- The name **cannot be** one of the Python's [**built-in functions**](https://docs.python.org/3/library/functions.html) or [**reserved keywords**](https://realpython.com/lessons/reserved-keywords/). Technically you can, but you (really) shouldn't."
   ]
  },
  {
   "cell_type": "markdown",
   "metadata": {
    "slideshow": {
     "slide_type": "subslide"
    },
    "tags": []
   },
   "source": [
    "You cannot use a variable that was not previously assigned. This will result in a `NameError`."
   ]
  },
  {
   "cell_type": "code",
   "execution_count": null,
   "metadata": {
    "slideshow": {
     "slide_type": "fragment"
    },
    "tags": []
   },
   "outputs": [],
   "source": [
    "print(never_assigned)"
   ]
  },
  {
   "cell_type": "markdown",
   "metadata": {
    "slideshow": {
     "slide_type": "slide"
    },
    "tags": []
   },
   "source": [
    "### Constant\n",
    "A **constant** is a variable written in ALL_CAPS that shouldn't change value throghout the entire application. This is really a [convention](https://peps.python.org/pep-0008/#constants), more than a fixed rule; but it does help someone reading the code understand that the value shouldn't change. You can redefine a constant's value, but that shouldn't be the norm."
   ]
  },
  {
   "cell_type": "code",
   "execution_count": null,
   "metadata": {
    "slideshow": {
     "slide_type": "fragment"
    },
    "tags": []
   },
   "outputs": [],
   "source": [
    "GRAVITY_EARTH = 9.81\n",
    "PI = 3.14159"
   ]
  },
  {
   "cell_type": "markdown",
   "metadata": {
    "slideshow": {
     "slide_type": "slide"
    },
    "tags": []
   },
   "source": [
    "## Basic Input/Output Operations\n",
    "\n",
    "By default, Python includes built-in functions that enable input/output operations.\n",
    "\n",
    "Instead of defining a static value for a variable, we can ask the user to `input()`. The syntax is `input([prompt])`, where prompt is an optional string we wish to display while asking for input.\n",
    "\n",
    "On the other side, we can `print()` the value to the standard output device (screen)."
   ]
  },
  {
   "cell_type": "code",
   "execution_count": null,
   "metadata": {
    "slideshow": {
     "slide_type": "fragment"
    },
    "tags": []
   },
   "outputs": [],
   "source": [
    "# input - define your name as a variable\n",
    "# \"Enter your name:\" is the optional prompt \n",
    "name = input(\"Enter your name:\")"
   ]
  },
  {
   "cell_type": "code",
   "execution_count": null,
   "metadata": {
    "slideshow": {
     "slide_type": "fragment"
    },
    "tags": []
   },
   "outputs": [],
   "source": [
    "# output - print your name\n",
    "print(name)"
   ]
  },
  {
   "cell_type": "markdown",
   "metadata": {
    "slideshow": {
     "slide_type": "subslide"
    },
    "tags": []
   },
   "source": [
    "By default, everything you input is treated as a string. To cast to a specific data type, you can use the built-in functions (e.g. `bool()`, `int()`, `float()`). This is further discussed in the \"Data Objects and Types\" notebook, but you get the idea."
   ]
  },
  {
   "cell_type": "code",
   "execution_count": null,
   "metadata": {
    "slideshow": {
     "slide_type": "fragment"
    },
    "tags": []
   },
   "outputs": [],
   "source": [
    "# This performs a mathematical multiplication by 2.\n",
    "print(int(input()) * 2)\n"
   ]
  },
  {
   "cell_type": "code",
   "execution_count": null,
   "metadata": {
    "slideshow": {
     "slide_type": "fragment"
    },
    "tags": []
   },
   "outputs": [],
   "source": [
    "# Without casting to a number (int, float), this repeats the string twice\n",
    "print(input() * 2)"
   ]
  },
  {
   "cell_type": "markdown",
   "metadata": {
    "slideshow": {
     "slide_type": "slide"
    },
    "tags": []
   },
   "source": [
    "## Operators\n",
    "\n",
    "The **operators** allow you to perform operations on variables and values.\n",
    "\n",
    "There are [multiple categories of operators](https://www.w3schools.com/python/python_operators.asp), but we'll focus on the most useful:\n",
    "  - arithmetic (+, -, *, /, //, %, **)\n",
    "  - assignment (=, [op]=)\n",
    "  - comparison (==, !=, >, <, >=, <=)\n",
    "  - logical (and, or, not)\n",
    "  - identity (is, is not)\n",
    "  - membership (in, not in)"
   ]
  },
  {
   "cell_type": "markdown",
   "metadata": {
    "slideshow": {
     "slide_type": "subslide"
    },
    "tags": []
   },
   "source": [
    "### Arithmetic\n",
    "The arithmetic operators are used with numeric values for mathematical operations."
   ]
  },
  {
   "cell_type": "code",
   "execution_count": 5,
   "metadata": {
    "slideshow": {
     "slide_type": "fragment"
    },
    "tags": []
   },
   "outputs": [
    {
     "data": {
      "text/plain": [
       "3.75"
      ]
     },
     "execution_count": 5,
     "metadata": {},
     "output_type": "execute_result"
    }
   ],
   "source": [
    "# addition\n",
    "2 + 3  # 5\n",
    "\n",
    "# subtraction\n",
    "5 - 2  # 3\n",
    "\n",
    "# multiplication\n",
    "4 * 15  # 60\n",
    "\n",
    "# division (common)\n",
    "15 / 4  # 3.75"
   ]
  },
  {
   "cell_type": "code",
   "execution_count": 6,
   "metadata": {
    "slideshow": {
     "slide_type": "subslide"
    },
    "tags": []
   },
   "outputs": [
    {
     "data": {
      "text/plain": [
       "9"
      ]
     },
     "execution_count": 6,
     "metadata": {},
     "output_type": "execute_result"
    }
   ],
   "source": [
    "# floor division (division but with largest possible integer only)\n",
    "15 / 4  # 3\n",
    "13 / 4  # 3\n",
    "16 / 4  # 4\n",
    "\n",
    "# modulo (remainder after floor division)\n",
    "15 % 4  # 3\n",
    "13 % 4  # 1\n",
    "16 % 4  # 0\n",
    "\n",
    "# exponentiation (raise a number to the power of another)\n",
    "2 ** 4  # 16 = 2 * 2 * 2 * 2\n",
    "3 ** 2  # 9 = 3 * 3"
   ]
  },
  {
   "cell_type": "markdown",
   "metadata": {
    "slideshow": {
     "slide_type": "subslide"
    },
    "tags": []
   },
   "source": [
    "### Assignment\n",
    "\n",
    "The standard assignment operator (`=`) is used to define the value for a variable.\n",
    "\n",
    "Additionally, we can chain other operators before the assignment. Reassignment works by performing the chained operation to the previous value and reassigning the new value to the variable."
   ]
  },
  {
   "cell_type": "code",
   "execution_count": null,
   "metadata": {
    "slideshow": {
     "slide_type": "fragment"
    },
    "tags": []
   },
   "outputs": [],
   "source": [
    "# standard assignment\n",
    "x = 5\n",
    "\n",
    "# chained assignment with addition\n",
    "x += 3  # x is now 8 (5+3)\n",
    "\n",
    "# chained assignment with multiplication\n",
    "x *= 2  # x is now 16 (8*2)"
   ]
  },
  {
   "cell_type": "markdown",
   "metadata": {
    "slideshow": {
     "slide_type": "subslide"
    },
    "tags": []
   },
   "source": [
    "### Comparison\n",
    "Comparison operators are used to compare values. They return a Boolean of True or False."
   ]
  },
  {
   "cell_type": "code",
   "execution_count": null,
   "metadata": {
    "slideshow": {
     "slide_type": "fragment"
    },
    "tags": []
   },
   "outputs": [],
   "source": [
    "# equality, inequality\n",
    "2 == 2  # True\n",
    "2 != 3  # True\n",
    "\n",
    "# greater, lesser, greater or equal, lesser or equal\n",
    "2 > 3   # False \n",
    "2 < 3   # True\n",
    "2 >= 3  # False\n",
    "2 <= 3  # True"
   ]
  },
  {
   "cell_type": "markdown",
   "metadata": {
    "slideshow": {
     "slide_type": "subslide"
    },
    "tags": []
   },
   "source": [
    "### Logical\n",
    "Logical operators enable you to combine conditional statements. These are useful in the future for flow control."
   ]
  },
  {
   "cell_type": "code",
   "execution_count": null,
   "metadata": {
    "slideshow": {
     "slide_type": "fragment"
    },
    "tags": []
   },
   "outputs": [],
   "source": [
    "# and, or, not\n",
    "True and False  # False\n",
    "True or False   # True\n",
    "not False       # True"
   ]
  },
  {
   "cell_type": "markdown",
   "metadata": {
    "slideshow": {
     "slide_type": "subslide"
    },
    "tags": []
   },
   "source": [
    "### Identity\n",
    "Identity operators allow you to compare if objects are actually the same objects (same memory location), not if they have the same value."
   ]
  },
  {
   "cell_type": "code",
   "execution_count": null,
   "metadata": {
    "slideshow": {
     "slide_type": "fragment"
    },
    "tags": []
   },
   "outputs": [],
   "source": [
    "# is, is not\n",
    "y = 5\n",
    "z = y\n",
    "x is y     # True\n",
    "y is not y # False "
   ]
  },
  {
   "cell_type": "markdown",
   "metadata": {
    "slideshow": {
     "slide_type": "subslide"
    },
    "tags": []
   },
   "source": [
    "### Membership\n",
    "Membership operators enable you to test if something is present in an object. These are tightly coupled with data objects which we'll see further ahead."
   ]
  },
  {
   "cell_type": "code",
   "execution_count": null,
   "metadata": {
    "slideshow": {
     "slide_type": "fragment"
    },
    "tags": []
   },
   "outputs": [],
   "source": [
    "# lists - whether a value already exists\n",
    "2 in [2, 3, 4]  # True\n",
    "\n",
    "# dicts - whether a key alredy exists\n",
    "my_dict = {\"f\": 2, \"g\": 3}\n",
    "\"f\" not in my_dict  # False\n",
    "2 in my_dict  # False. The value exists, but the key doesn't."
   ]
  },
  {
   "cell_type": "markdown",
   "metadata": {},
   "source": [
    "## Practice:"
   ]
  },
  {
   "cell_type": "code",
   "execution_count": null,
   "metadata": {},
   "outputs": [],
   "source": [
    "# how to check if 2 is higher or equal than 3\n",
    "# check if 'a' is inside of 'abcde'\n",
    "# check if 2 is smaller than 10 and higher than 0\n"
   ]
  },
  {
   "cell_type": "markdown",
   "metadata": {
    "slideshow": {
     "slide_type": "slide"
    },
    "tags": []
   },
   "source": [
    "## Recap\n",
    "Let's take a moment to recap what we've just learned! By the end of this notebook, you should have a clear idea of:\n",
    "  1.  What are **Python's strengths & weaknessess**; and Why is Python good for your needs;\n",
    "  2.  What are the **ways to run python** (shell, notebook, scripts);\n",
    "  3.  **Variables** and how to name them;\n",
    "  4.  Core functions to **input/output** data;\n",
    "  5.  Transform values and variables with **operators**."
   ]
  },
  {
   "cell_type": "markdown",
   "metadata": {},
   "source": []
  }
 ],
 "metadata": {
  "interpreter": {
   "hash": "62450144029c700d9828a520a84c849f57ec997bbb5cd86252d9dcd358a93bcf"
  },
  "kernelspec": {
   "display_name": "Python 3 (ipykernel)",
   "language": "python",
   "name": "python3"
  },
  "language_info": {
   "codemirror_mode": {
    "name": "ipython",
    "version": 3
   },
   "file_extension": ".py",
   "mimetype": "text/x-python",
   "name": "python",
   "nbconvert_exporter": "python",
   "pygments_lexer": "ipython3",
   "version": "3.10.9"
  }
 },
 "nbformat": 4,
 "nbformat_minor": 4
}
